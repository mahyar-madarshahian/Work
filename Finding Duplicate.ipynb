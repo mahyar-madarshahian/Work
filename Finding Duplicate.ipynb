{
 "cells": [
  {
   "cell_type": "code",
   "execution_count": 216,
   "metadata": {},
   "outputs": [],
   "source": [
    "import pandas as pd\n",
    "path = r\"C:\\Users\\Sony\\Desktop\\sibna.xlsx\"\n",
    "sibna=pd.read_excel(path)"
   ]
  },
  {
   "cell_type": "code",
   "execution_count": 217,
   "metadata": {},
   "outputs": [],
   "source": [
    "new_column_data ={'کد بودجه مصوب':'A','شرح اعتبار مصوب':'B','عنوان واحد اجرائي':'C','اعتبار مصوب سيبنا':'D','تامين اعتبار سيبنا':'E','تخصيص وجه سيبنا':'F'}\n",
    "sibna=sibna.rename(columns=new_column_data)"
   ]
  },
  {
   "cell_type": "code",
   "execution_count": 218,
   "metadata": {},
   "outputs": [],
   "source": [
    "for i in range(0,sibna.shape[0]-1):\n",
    "    for j in range(i+1,sibna.shape[0]):\n",
    "        if sibna['A'][i]==sibna['A'][j]:\n",
    "            sibna.at[j,'A']=None\n",
    "            sibna.at[i,'D']=int(sibna['D'][i])+int(sibna['D'][j])\n",
    "            sibna.at[i,'E']=int(sibna['E'][i])+int(sibna['E'][j])\n",
    "            sibna.at[i,'F']=int(sibna['F'][i])+int(sibna['F'][j])\n",
    "sibna = sibna.dropna()\n",
    "sibna.to_excel('sibna_cleaning.xlsx',sheet_name='cleaned')\n",
    "\n",
    "         \n"
   ]
  },
  {
   "cell_type": "code",
   "execution_count": null,
   "metadata": {},
   "outputs": [],
   "source": []
  }
 ],
 "metadata": {
  "kernelspec": {
   "display_name": "Python 3",
   "language": "python",
   "name": "python3"
  },
  "language_info": {
   "codemirror_mode": {
    "name": "ipython",
    "version": 3
   },
   "file_extension": ".py",
   "mimetype": "text/x-python",
   "name": "python",
   "nbconvert_exporter": "python",
   "pygments_lexer": "ipython3",
   "version": "3.7.4"
  }
 },
 "nbformat": 4,
 "nbformat_minor": 2
}
